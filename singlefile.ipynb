# @title Setup and Run TripoSR

# Clone the TripoSR repository
!git clone https://github.com/VAST-AI-Research/TripoSR.git

# Upgrade setuptools
!pip install --upgrade setuptools

# Uninstall torchmcubes if it's already installed
!pip uninstall -y torchmcubes

# Install torchmcubes from the specified GitHub repository
!pip install git+https://github.com/tatsy/torchmcubes.git

# Change directory to TripoSR
!cd TripoSR

# List files in the directory
!ls

# Print the current working directory
!pwd

# Install required dependencies from requirements.txt
!pip install -r /content/TripoSR/requirements.txt

# Change directory back to TripoSR
!cd TripoSR/ && pwd

# Install additional dependencies
!pip install onnxruntime
!pip install --upgrade huggingface_hub transformers

# Print the current working directory
!pwd

# Change directory to TripoSR
!cd TripoSR/

# Run the TripoSR script with the specified example..ring.png needs to be uploaded to this location
!python run.py examples/ring.png --output-dir output/
